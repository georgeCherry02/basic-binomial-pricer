{
 "cells": [
  {
   "cell_type": "code",
   "execution_count": 1,
   "id": "cbda6f9c-2181-444c-92aa-2e3a7cba6c41",
   "metadata": {},
   "outputs": [],
   "source": [
    "from pricer import gen_monte_carlo_paths"
   ]
  },
  {
   "cell_type": "code",
   "execution_count": 4,
   "id": "3013852b-d170-4b2d-a312-0366b0744ea6",
   "metadata": {},
   "outputs": [],
   "source": [
    "from datetime import datetime\n",
    "from dateutil.relativedelta import relativedelta\n",
    "import pytz\n",
    "\n",
    "from pricer import Call\n",
    "\n",
    "symbol = \"AAPL\"\n",
    "strike = 110.0\n",
    "half_a_year = datetime.now() + relativedelta(months=6)\n",
    "half_a_year_iso = pytz.utc.localize(half_a_year).isoformat()\n",
    "cost = 3.0\n",
    "\n",
    "call = Call(symbol, strike, half_a_year_iso, cost)"
   ]
  },
  {
   "cell_type": "code",
   "execution_count": 5,
   "id": "1890079b-143c-4a81-ac89-f580752048c6",
   "metadata": {},
   "outputs": [],
   "source": [
    "price = 100\n",
    "volatility = 0.25\n",
    "annualised_return = 0.03\n",
    "\n",
    "paths = gen_monte_carlo_paths(call, price, volatility, annualised_return)"
   ]
  },
  {
   "cell_type": "code",
   "execution_count": 7,
   "id": "ed5def88-0290-4711-9404-498e29f388f8",
   "metadata": {},
   "outputs": [
    {
     "data": {
      "text/plain": [
       "'\\nimport plotly.graph_objects as go\\nimport numpy as np\\n\\nfig = go.Figure()\\n\\nx = np.arange(len(paths[0]))\\nfor path in paths[:100]:\\n    fig.add_trace(go.Scatter(x=x, y=path))\\n\\nfig.show()\\n'"
      ]
     },
     "execution_count": 7,
     "metadata": {},
     "output_type": "execute_result"
    }
   ],
   "source": [
    "# Commented because this is costly\n",
    "\"\"\"\n",
    "import plotly.graph_objects as go\n",
    "import numpy as np\n",
    "\n",
    "fig = go.Figure()\n",
    "\n",
    "x = np.arange(len(paths[0]))\n",
    "for path in paths[:100]:\n",
    "    fig.add_trace(go.Scatter(x=x, y=path))\n",
    "\n",
    "fig.show()\n",
    "\"\"\""
   ]
  },
  {
   "cell_type": "code",
   "execution_count": null,
   "id": "48cb75eb-4291-47d8-9d17-f6bef6a8ab83",
   "metadata": {},
   "outputs": [],
   "source": []
  }
 ],
 "metadata": {
  "kernelspec": {
   "display_name": "Python 3 (ipykernel)",
   "language": "python",
   "name": "python3"
  },
  "language_info": {
   "codemirror_mode": {
    "name": "ipython",
    "version": 3
   },
   "file_extension": ".py",
   "mimetype": "text/x-python",
   "name": "python",
   "nbconvert_exporter": "python",
   "pygments_lexer": "ipython3",
   "version": "3.10.12"
  }
 },
 "nbformat": 4,
 "nbformat_minor": 5
}
