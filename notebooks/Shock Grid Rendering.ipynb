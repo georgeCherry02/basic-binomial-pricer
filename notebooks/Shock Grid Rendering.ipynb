{
 "cells": [
  {
   "cell_type": "code",
   "execution_count": 12,
   "id": "7b70b92e-2fbf-4211-86ad-70e1409f8e93",
   "metadata": {},
   "outputs": [],
   "source": [
    "from pricer import ShockLimits, generate_shock_grid\n",
    "price = 40.0\n",
    "price_limits = ShockLimits(0.3, 0.3, 100)\n",
    "volatility = 0.4\n",
    "volatility_limits = ShockLimits(0.5, 0.5, 100)\n",
    "shock_grid = generate_shock_grid(price, price_limits, volatility, volatility_limits)"
   ]
  },
  {
   "cell_type": "code",
   "execution_count": 13,
   "id": "3c01a378-5a33-4006-bdbd-782338596d55",
   "metadata": {},
   "outputs": [],
   "source": [
    "from datetime import datetime\n",
    "from dateutil.relativedelta import relativedelta\n",
    "import pytz\n",
    "\n",
    "from pricer import Call\n",
    "\n",
    "strike = 45.0\n",
    "four_months = datetime.now() + relativedelta(months=4)\n",
    "four_months_iso = pytz.utc.localize(four_months).isoformat()\n",
    "call = Call(strike, four_months_iso)"
   ]
  },
  {
   "cell_type": "code",
   "execution_count": 15,
   "id": "fe2ef2fc-98af-4d9a-bc3a-f959d7a1fadf",
   "metadata": {},
   "outputs": [],
   "source": [
    "risk_free_rate = 0.04\n",
    "valuations = shock_grid.value_with_black_scholes(call, 0.04)"
   ]
  },
  {
   "cell_type": "code",
   "execution_count": null,
   "id": "9c4de7c5-b838-49d2-86ad-e71f66c859a1",
   "metadata": {},
   "outputs": [],
   "source": []
  }
 ],
 "metadata": {
  "kernelspec": {
   "display_name": "Python 3 (ipykernel)",
   "language": "python",
   "name": "python3"
  },
  "language_info": {
   "codemirror_mode": {
    "name": "ipython",
    "version": 3
   },
   "file_extension": ".py",
   "mimetype": "text/x-python",
   "name": "python",
   "nbconvert_exporter": "python",
   "pygments_lexer": "ipython3",
   "version": "3.10.12"
  }
 },
 "nbformat": 4,
 "nbformat_minor": 5
}
